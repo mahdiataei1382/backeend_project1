{
 "cells": [
  {
   "cell_type": "code",
   "execution_count": 1,
   "metadata": {},
   "outputs": [],
   "source": [
    "from selenium import webdriver\n",
    "from selenium.webdriver.chrome.service import Service\n",
    "from selenium.webdriver.common.by import By\n",
    "from selenium.webdriver.support.ui import WebDriverWait\n",
    "from selenium.webdriver.support import expected_conditions as EC\n",
    "from bs4 import BeautifulSoup\n",
    "from requests.sessions import Session\n",
    "import requests\n",
    "import json"
   ]
  },
  {
   "cell_type": "code",
   "execution_count": 2,
   "metadata": {},
   "outputs": [],
   "source": [
    "chrome_driver = Service('/home/ata/env/bin/chromedriver')\n",
    "zoomit_targer_url = \"https://www.zoomit.ir/archive/?sort=Newest&skip=20&publishPeriod=LastMonth\"\n",
    "driver = webdriver.Chrome(service=chrome_driver)\n",
    "driver.get(zoomit_targer_url)\n",
    "  # Maximum wait time in seconds\n",
    "# Proceed with further operations after the page is loaded"
   ]
  },
  {
   "cell_type": "code",
   "execution_count": 3,
   "metadata": {},
   "outputs": [],
   "source": [
    "while True:\n",
    "    try:\n",
    "        button = driver.find_element(by=By.XPATH, value=\"//*[@id='__next']/div[2]/div[1]/div[3]/div/div/div[2]/div/div[3]/button\")\n",
    "        button.click()\n",
    "        # Wait for the page to load after clicking the button\n",
    "        wait = WebDriverWait(driver, 10)\n",
    "    except:\n",
    "        # Break thetypography__StyledDynamicTypographyComponent-t787b7-0 eNoCZh loop if the button is not found\n",
    "        break"
   ]
  },
  {
   "cell_type": "code",
   "execution_count": 4,
   "metadata": {},
   "outputs": [],
   "source": [
    "news_url = []\n",
    "news_titleـdemo = []\n",
    "i = 1\n",
    "while True:\n",
    "    try:\n",
    "        url = driver.find_element(by=By.XPATH , value= \"//*[@id='__next']/div[2]/div[1]/div[3]/div/div/div[2]/div/div[2]/div[\"+str(i)+\"]/div/a\")\n",
    "        news_url.append(url.get_attribute('href'))\n",
    "        title = driver.find_element(by=By.XPATH , value=\"//*[@id='__next']/div[2]/div[1]/div[3]/div/div/div[2]/div/div[2]/div[\"+str(i)+\"]/div/div/a/span\")\n",
    "        news_titleـdemo.append(title.text)\n",
    "        i = i + 1\n",
    "    except:\n",
    "        break\n",
    "driver.quit()"
   ]
  },
  {
   "cell_type": "code",
   "execution_count": 5,
   "metadata": {},
   "outputs": [
    {
     "name": "stdout",
     "output_type": "stream",
     "text": [
      "https://www.zoomg.ir/cinema-articles/352310-steven-spielberg-25-top-movies-of-all-time/\n",
      "https://www.zoomg.ir/cinema-articles/352424-top-sam-raimi-movies/\n",
      "https://www.zoomg.ir/game-articles/352098-best-free-ps5-games/\n",
      "https://www.zoomg.ir/cinema-articles/351890-banned-horror-movies/\n",
      "https://www.zoomg.ir/ios-game/331192-25-best-free-ios-games/\n",
      "https://www.zoomit.ir/%D8%A8%D9%87%D8%AA%D8%B1%DB%8C%D9%86%20%D9%81%DB%8C%D9%84%D9%85%20%D9%87%D8%A7%DB%8C%20%D8%B9%D8%A7%D8%B4%D9%82%D8%A7%D9%86%D9%87%20%D8%A7%DB%8C%D8%B1%D8%A7%D9%86%DB%8C/\n",
      "https://www.zoomg.ir/cinema-articles/362686-best-daniel-radclife-movies/\n",
      "https://www.pedal.ir/vision/conditions-for-buying-tires-at-the-government-rate/\n",
      "https://www.zoomg.ir/cinema-articles/352499-morgan-freeman-best-films/\n",
      "https://www.zoomg.ir/game-articles/352285-best-free-xbox-series-x-s-games/\n",
      "https://www.pedal.ir/vision/car-with-lowest-fuel-consumption-in-iran/\n",
      "https://www.zoomg.ir/cinema-articles/352141-best-sports-anime-all-time/\n",
      "https://www.zoomg.ir/game/362561-best-games-like-cod-mobile/\n",
      "https://www.pedal.ir/vision/jac-t9-kmc-specs-price/\n",
      "https://www.zoomg.ir/cinema-articles/362606-best-kristen-stewart-movies-ranked/\n",
      "https://www.zoomg.ir/cinema-articles/362720-ryan-reynolds-22-top-movies/\n",
      "https://www.pedal.ir/vision/foton-tunland-buying-guide/\n",
      "https://www.pedal.ir/vision/dong-feng-shine-max/\n",
      "https://www.pedal.ir/hyundai/santafe-2024-new-generation/\n"
     ]
    }
   ],
   "source": [
    "ses = Session()\n",
    "i = 0\n",
    "news_title = []\n",
    "news_text = []\n",
    "news_source = []\n",
    "news_tag = []\n",
    "tags = {}\n",
    "tags = set(tags)\n",
    "for url in news_url:\n",
    "    try:\n",
    "        new_page = ses.get(url , headers={'User-Agent':'https://user-agents.net/string/mozilla-5-0-linux-android-12-cph2251-build-sp1a-210812-003-wv-applewebkit-537-36-khtml-like-gecko-version-4-0-chrome-109-0-5414-118-mobile-safari-537-36-instagram-268-0-0-18-72-android-31-12-480dpi-1080x2237-oppo-cp-41eefdaadc265c91b0279e092ef2286df3f1c865'})\n",
    "        soup = BeautifulSoup(new_page.content , 'html.parser')\n",
    "        #tags procsec\n",
    "        tag_box = soup.find('div' , class_=\"flex__Flex-le1v16-0 kDyGrB\")\n",
    "        new_tags_html = tag_box.find_all('a' , class_=\"link__CustomNextLink-sc-1r7l32j-0 iCQspp\")\n",
    "        new_tags = [tag.text for tag in new_tags_html]\n",
    "        news_tag.append(new_tags)\n",
    "        tags.update(new_tags)\n",
    "        new_text_html = soup.find_all('p' , {'class':\"typography__StyledDynamicTypographyComponent-t787b7-0 lddBNw ParagraphElement__ParagraphBase-sc-1soo3i3-0 gOVZGU\"})\n",
    "        new_text = \"\"\"\"\"\"\n",
    "        for element in new_text_html:\n",
    "            new_text += element.text + \"\\n\"\n",
    "        news_text.append(new_text)\n",
    "        new_source_html = soup.find('a' , {'rel':'nofollow'})\n",
    "        new_source = new_source_html.get('href')\n",
    "        news_source.append(new_source)\n",
    "        news_title.append(news_titleـdemo[i])\n",
    "    except:\n",
    "        print(url)\n",
    "    i +=1"
   ]
  },
  {
   "cell_type": "code",
   "execution_count": 6,
   "metadata": {},
   "outputs": [],
   "source": [
    "tags = list(tags)\n",
    "tags_list = []\n",
    "for i in range(len(tags)):\n",
    "    tag_fields = {}\n",
    "    tag_fields[\"Name\"] = tags[i]\n",
    "    tag_dict = {}\n",
    "    tag_dict[\"model\"] = \"tecnews.Tagmodel\"\n",
    "    tag_dict[\"pk\"] = i+1\n",
    "    tag_dict[\"fields\"] = tag_fields\n",
    "    tags_list.append(tag_dict)"
   ]
  },
  {
   "cell_type": "code",
   "execution_count": 7,
   "metadata": {},
   "outputs": [],
   "source": [
    "news_list = []\n",
    "for i in range(len(news_title)):\n",
    "    news_fields = {}\n",
    "    news_fields[\"Title\"] = news_title[i]\n",
    "    news_fields[\"Text\"] = news_text[i]\n",
    "    news_fields[\"Source\"] = news_source[i]\n",
    "    new_tags_id = []\n",
    "    for tag in news_tag[i]:\n",
    "        id = tags.index(tag) + 1\n",
    "        new_tags_id.append(id)\n",
    "    news_fields[\"Tags\"] = new_tags_id\n",
    "    news_dict = {}\n",
    "    news_dict[\"model\"] = \"tecnews.NewModel\"\n",
    "    news_dict[\"pk\"] = i+1\n",
    "    news_dict[\"fields\"] = news_fields\n",
    "    news_list.append(news_dict)"
   ]
  },
  {
   "cell_type": "code",
   "execution_count": 8,
   "metadata": {},
   "outputs": [],
   "source": [
    "data_base = tags_list + news_list\n",
    "json_data = json.dumps(data_base  , ensure_ascii=False  , indent=4)\n",
    "with open(\"data.json\" , 'a' , encoding=\"utf-8\") as file :\n",
    "    file.write(json_data)\n"
   ]
  },
  {
   "cell_type": "code",
   "execution_count": 1,
   "metadata": {},
   "outputs": [
    {
     "ename": "NameError",
     "evalue": "name 'news_list' is not defined",
     "output_type": "error",
     "traceback": [
      "\u001b[0;31m---------------------------------------------------------------------------\u001b[0m",
      "\u001b[0;31mNameError\u001b[0m                                 Traceback (most recent call last)",
      "Cell \u001b[0;32mIn[1], line 1\u001b[0m\n\u001b[0;32m----> 1\u001b[0m \u001b[39mprint\u001b[39m(\u001b[39mlen\u001b[39m(news_list))\n\u001b[1;32m      2\u001b[0m \u001b[39mprint\u001b[39m(\u001b[39mlen\u001b[39m(tags_list))\n",
      "\u001b[0;31mNameError\u001b[0m: name 'news_list' is not defined"
     ]
    }
   ],
   "source": [
    "print(len(news_list))\n",
    "print(len(tags_list))"
   ]
  }
 ],
 "metadata": {
  "kernelspec": {
   "display_name": "Python 3",
   "language": "python",
   "name": "python3"
  },
  "language_info": {
   "codemirror_mode": {
    "name": "ipython",
    "version": 3
   },
   "file_extension": ".py",
   "mimetype": "text/x-python",
   "name": "python",
   "nbconvert_exporter": "python",
   "pygments_lexer": "ipython3",
   "version": "3.10.12"
  },
  "orig_nbformat": 4
 },
 "nbformat": 4,
 "nbformat_minor": 2
}
